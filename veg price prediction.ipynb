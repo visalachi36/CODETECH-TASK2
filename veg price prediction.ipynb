{
 "cells": [
  {
   "cell_type": "code",
   "execution_count": 4,
   "id": "47b9a91b-7723-4b87-8aa0-15598e6f2530",
   "metadata": {},
   "outputs": [
    {
     "name": "stdout",
     "output_type": "stream",
     "text": [
      "Requirement already satisfied: numpy in c:\\users\\s5\\anaconda3\\lib\\site-packages (1.26.4)\n",
      "Requirement already satisfied: pandas in c:\\users\\s5\\anaconda3\\lib\\site-packages (2.2.2)\n",
      "Requirement already satisfied: numpy>=1.26.0 in c:\\users\\s5\\anaconda3\\lib\\site-packages (from pandas) (1.26.4)\n",
      "Requirement already satisfied: python-dateutil>=2.8.2 in c:\\users\\s5\\appdata\\roaming\\python\\python312\\site-packages (from pandas) (2.9.0.post0)\n",
      "Requirement already satisfied: pytz>=2020.1 in c:\\users\\s5\\anaconda3\\lib\\site-packages (from pandas) (2024.1)\n",
      "Requirement already satisfied: tzdata>=2022.7 in c:\\users\\s5\\anaconda3\\lib\\site-packages (from pandas) (2023.3)\n",
      "Requirement already satisfied: six>=1.5 in c:\\users\\s5\\appdata\\roaming\\python\\python312\\site-packages (from python-dateutil>=2.8.2->pandas) (1.16.0)\n"
     ]
    }
   ],
   "source": [
    "!pip install numpy\n",
    "!pip install pandas"
   ]
  },
  {
   "cell_type": "code",
   "execution_count": 85,
   "id": "2d037e66-2520-4557-b04d-ba1d4c116f81",
   "metadata": {},
   "outputs": [],
   "source": [
    "import numpy as np\n",
    "import pandas as pd\n",
    "import seaborn as sns\n",
    "import matplotlib.pyplot as plt\n",
    "import os\n",
    "import statsmodels.formula.api as sm\n",
    "import statsmodels.formula.api as smf\n",
    "from sklearn.linear_model import LinearRegression, Ridge, Lasso, ElasticNet\n",
    "from sklearn.metrics import mean_squared_error, r2_score\n",
    "from sklearn.model_selection import train_test_split\n",
    "from sklearn.model_selection import cross_val_score\n",
    "from sklearn.model_selection import GridSearchCV\n",
    "\n",
    "import warnings"
   ]
  },
  {
   "cell_type": "code",
   "execution_count": 21,
   "id": "66e6b976-fa58-4f29-bbf2-821cc3ce8050",
   "metadata": {},
   "outputs": [],
   "source": []
  },
  {
   "cell_type": "code",
   "execution_count": 22,
   "id": "5b6a2d14-6769-4fa0-a5aa-75f35a942985",
   "metadata": {},
   "outputs": [
    {
     "data": {
      "text/html": [
       "<div>\n",
       "<style scoped>\n",
       "    .dataframe tbody tr th:only-of-type {\n",
       "        vertical-align: middle;\n",
       "    }\n",
       "\n",
       "    .dataframe tbody tr th {\n",
       "        vertical-align: top;\n",
       "    }\n",
       "\n",
       "    .dataframe thead th {\n",
       "        text-align: right;\n",
       "    }\n",
       "</style>\n",
       "<table border=\"1\" class=\"dataframe\">\n",
       "  <thead>\n",
       "    <tr style=\"text-align: right;\">\n",
       "      <th></th>\n",
       "      <th>Vegetable</th>\n",
       "      <th>Season</th>\n",
       "      <th>Month</th>\n",
       "      <th>Temp</th>\n",
       "      <th>Deasaster Happen in last 3month</th>\n",
       "      <th>Vegetable condition</th>\n",
       "      <th>Price per kg</th>\n",
       "    </tr>\n",
       "  </thead>\n",
       "  <tbody>\n",
       "    <tr>\n",
       "      <th>0</th>\n",
       "      <td>potato</td>\n",
       "      <td>winter</td>\n",
       "      <td>jan</td>\n",
       "      <td>15</td>\n",
       "      <td>no</td>\n",
       "      <td>fresh</td>\n",
       "      <td>20</td>\n",
       "    </tr>\n",
       "    <tr>\n",
       "      <th>1</th>\n",
       "      <td>tomato</td>\n",
       "      <td>winter</td>\n",
       "      <td>jan</td>\n",
       "      <td>15</td>\n",
       "      <td>no</td>\n",
       "      <td>fresh</td>\n",
       "      <td>50</td>\n",
       "    </tr>\n",
       "    <tr>\n",
       "      <th>2</th>\n",
       "      <td>peas</td>\n",
       "      <td>winter</td>\n",
       "      <td>jan</td>\n",
       "      <td>15</td>\n",
       "      <td>no</td>\n",
       "      <td>fresh</td>\n",
       "      <td>70</td>\n",
       "    </tr>\n",
       "    <tr>\n",
       "      <th>3</th>\n",
       "      <td>pumkin</td>\n",
       "      <td>winter</td>\n",
       "      <td>jan</td>\n",
       "      <td>15</td>\n",
       "      <td>no</td>\n",
       "      <td>fresh</td>\n",
       "      <td>25</td>\n",
       "    </tr>\n",
       "    <tr>\n",
       "      <th>4</th>\n",
       "      <td>cucumber</td>\n",
       "      <td>winter</td>\n",
       "      <td>jan</td>\n",
       "      <td>15</td>\n",
       "      <td>no</td>\n",
       "      <td>fresh</td>\n",
       "      <td>20</td>\n",
       "    </tr>\n",
       "  </tbody>\n",
       "</table>\n",
       "</div>"
      ],
      "text/plain": [
       "  Vegetable  Season Month  Temp Deasaster Happen in last 3month  \\\n",
       "0    potato  winter   jan    15                              no   \n",
       "1   tomato   winter   jan    15                              no   \n",
       "2      peas  winter   jan    15                              no   \n",
       "3    pumkin  winter   jan    15                              no   \n",
       "4  cucumber  winter   jan    15                              no   \n",
       "\n",
       "  Vegetable condition  Price per kg  \n",
       "0               fresh            20  \n",
       "1               fresh            50  \n",
       "2               fresh            70  \n",
       "3               fresh            25  \n",
       "4               fresh            20  "
      ]
     },
     "execution_count": 22,
     "metadata": {},
     "output_type": "execute_result"
    }
   ],
   "source": [
    "df.head()"
   ]
  },
  {
   "cell_type": "code",
   "execution_count": 23,
   "id": "4d2906f1-0dac-4ad8-9ccf-24b4226f83ed",
   "metadata": {},
   "outputs": [
    {
     "data": {
      "text/plain": [
       "Index(['Vegetable', 'Season', 'Month', 'Temp',\n",
       "       'Deasaster Happen in last 3month', 'Vegetable condition',\n",
       "       'Price per kg'],\n",
       "      dtype='object')"
      ]
     },
     "execution_count": 23,
     "metadata": {},
     "output_type": "execute_result"
    }
   ],
   "source": [
    "df.columns"
   ]
  },
  {
   "cell_type": "code",
   "execution_count": 24,
   "id": "7378eaa7-bcc7-497f-990f-9b722e001d0d",
   "metadata": {},
   "outputs": [],
   "source": [
    "df.rename(columns={'Unnamed: 0': 'Index'}, inplace=True)"
   ]
  },
  {
   "cell_type": "code",
   "execution_count": 25,
   "id": "c55a87b5-e2b1-48c7-84ec-8162023a4235",
   "metadata": {},
   "outputs": [
    {
     "data": {
      "text/html": [
       "<div>\n",
       "<style scoped>\n",
       "    .dataframe tbody tr th:only-of-type {\n",
       "        vertical-align: middle;\n",
       "    }\n",
       "\n",
       "    .dataframe tbody tr th {\n",
       "        vertical-align: top;\n",
       "    }\n",
       "\n",
       "    .dataframe thead th {\n",
       "        text-align: right;\n",
       "    }\n",
       "</style>\n",
       "<table border=\"1\" class=\"dataframe\">\n",
       "  <thead>\n",
       "    <tr style=\"text-align: right;\">\n",
       "      <th></th>\n",
       "      <th>Vegetable</th>\n",
       "      <th>Season</th>\n",
       "      <th>Month</th>\n",
       "      <th>Temp</th>\n",
       "      <th>Deasaster Happen in last 3month</th>\n",
       "      <th>Vegetable condition</th>\n",
       "      <th>Price per kg</th>\n",
       "    </tr>\n",
       "  </thead>\n",
       "  <tbody>\n",
       "    <tr>\n",
       "      <th>0</th>\n",
       "      <td>potato</td>\n",
       "      <td>winter</td>\n",
       "      <td>jan</td>\n",
       "      <td>15</td>\n",
       "      <td>no</td>\n",
       "      <td>fresh</td>\n",
       "      <td>20</td>\n",
       "    </tr>\n",
       "    <tr>\n",
       "      <th>1</th>\n",
       "      <td>tomato</td>\n",
       "      <td>winter</td>\n",
       "      <td>jan</td>\n",
       "      <td>15</td>\n",
       "      <td>no</td>\n",
       "      <td>fresh</td>\n",
       "      <td>50</td>\n",
       "    </tr>\n",
       "    <tr>\n",
       "      <th>2</th>\n",
       "      <td>peas</td>\n",
       "      <td>winter</td>\n",
       "      <td>jan</td>\n",
       "      <td>15</td>\n",
       "      <td>no</td>\n",
       "      <td>fresh</td>\n",
       "      <td>70</td>\n",
       "    </tr>\n",
       "    <tr>\n",
       "      <th>3</th>\n",
       "      <td>pumkin</td>\n",
       "      <td>winter</td>\n",
       "      <td>jan</td>\n",
       "      <td>15</td>\n",
       "      <td>no</td>\n",
       "      <td>fresh</td>\n",
       "      <td>25</td>\n",
       "    </tr>\n",
       "    <tr>\n",
       "      <th>4</th>\n",
       "      <td>cucumber</td>\n",
       "      <td>winter</td>\n",
       "      <td>jan</td>\n",
       "      <td>15</td>\n",
       "      <td>no</td>\n",
       "      <td>fresh</td>\n",
       "      <td>20</td>\n",
       "    </tr>\n",
       "    <tr>\n",
       "      <th>...</th>\n",
       "      <td>...</td>\n",
       "      <td>...</td>\n",
       "      <td>...</td>\n",
       "      <td>...</td>\n",
       "      <td>...</td>\n",
       "      <td>...</td>\n",
       "      <td>...</td>\n",
       "    </tr>\n",
       "    <tr>\n",
       "      <th>116</th>\n",
       "      <td>brinjal</td>\n",
       "      <td>winter</td>\n",
       "      <td>jan</td>\n",
       "      <td>15</td>\n",
       "      <td>yes</td>\n",
       "      <td>fresh</td>\n",
       "      <td>33</td>\n",
       "    </tr>\n",
       "    <tr>\n",
       "      <th>117</th>\n",
       "      <td>ginger</td>\n",
       "      <td>winter</td>\n",
       "      <td>jan</td>\n",
       "      <td>15</td>\n",
       "      <td>no</td>\n",
       "      <td>fresh</td>\n",
       "      <td>88</td>\n",
       "    </tr>\n",
       "    <tr>\n",
       "      <th>118</th>\n",
       "      <td>potato</td>\n",
       "      <td>summer</td>\n",
       "      <td>apr</td>\n",
       "      <td>32</td>\n",
       "      <td>no</td>\n",
       "      <td>fresh</td>\n",
       "      <td>24</td>\n",
       "    </tr>\n",
       "    <tr>\n",
       "      <th>119</th>\n",
       "      <td>peas</td>\n",
       "      <td>summer</td>\n",
       "      <td>apr</td>\n",
       "      <td>33</td>\n",
       "      <td>no</td>\n",
       "      <td>fresh</td>\n",
       "      <td>33</td>\n",
       "    </tr>\n",
       "    <tr>\n",
       "      <th>120</th>\n",
       "      <td>radish</td>\n",
       "      <td>summer</td>\n",
       "      <td>apr</td>\n",
       "      <td>32</td>\n",
       "      <td>no</td>\n",
       "      <td>fresh</td>\n",
       "      <td>9</td>\n",
       "    </tr>\n",
       "  </tbody>\n",
       "</table>\n",
       "<p>121 rows × 7 columns</p>\n",
       "</div>"
      ],
      "text/plain": [
       "    Vegetable  Season Month  Temp Deasaster Happen in last 3month  \\\n",
       "0      potato  winter   jan    15                              no   \n",
       "1     tomato   winter   jan    15                              no   \n",
       "2        peas  winter   jan    15                              no   \n",
       "3      pumkin  winter   jan    15                              no   \n",
       "4    cucumber  winter   jan    15                              no   \n",
       "..        ...     ...   ...   ...                             ...   \n",
       "116   brinjal  winter   jan    15                             yes   \n",
       "117    ginger  winter   jan    15                              no   \n",
       "118    potato  summer   apr    32                              no   \n",
       "119      peas  summer   apr    33                              no   \n",
       "120    radish  summer   apr    32                              no   \n",
       "\n",
       "    Vegetable condition  Price per kg  \n",
       "0                 fresh            20  \n",
       "1                 fresh            50  \n",
       "2                 fresh            70  \n",
       "3                 fresh            25  \n",
       "4                 fresh            20  \n",
       "..                  ...           ...  \n",
       "116               fresh            33  \n",
       "117               fresh            88  \n",
       "118               fresh            24  \n",
       "119               fresh            33  \n",
       "120               fresh             9  \n",
       "\n",
       "[121 rows x 7 columns]"
      ]
     },
     "execution_count": 25,
     "metadata": {},
     "output_type": "execute_result"
    }
   ],
   "source": [
    "df"
   ]
  },
  {
   "cell_type": "code",
   "execution_count": 27,
   "id": "eabf7cb8-dd66-4abc-a784-a0fd3b5d7107",
   "metadata": {},
   "outputs": [
    {
     "data": {
      "text/plain": [
       "(121, 7)"
      ]
     },
     "execution_count": 27,
     "metadata": {},
     "output_type": "execute_result"
    }
   ],
   "source": [
    "df.shape"
   ]
  },
  {
   "cell_type": "code",
   "execution_count": 28,
   "id": "0bfaac7a-65d4-494c-b25b-7b659d9e35af",
   "metadata": {},
   "outputs": [
    {
     "name": "stdout",
     "output_type": "stream",
     "text": [
      "<class 'pandas.core.frame.DataFrame'>\n",
      "RangeIndex: 121 entries, 0 to 120\n",
      "Data columns (total 7 columns):\n",
      " #   Column                           Non-Null Count  Dtype \n",
      "---  ------                           --------------  ----- \n",
      " 0   Vegetable                        121 non-null    object\n",
      " 1   Season                           121 non-null    object\n",
      " 2   Month                            121 non-null    object\n",
      " 3   Temp                             121 non-null    int64 \n",
      " 4   Deasaster Happen in last 3month  121 non-null    object\n",
      " 5   Vegetable condition              121 non-null    object\n",
      " 6   Price per kg                     121 non-null    int64 \n",
      "dtypes: int64(2), object(5)\n",
      "memory usage: 6.7+ KB\n"
     ]
    }
   ],
   "source": [
    "df.info()"
   ]
  },
  {
   "cell_type": "code",
   "execution_count": 29,
   "id": "68be4d42-147c-458e-a839-f189223cedc4",
   "metadata": {},
   "outputs": [
    {
     "data": {
      "text/html": [
       "<div>\n",
       "<style scoped>\n",
       "    .dataframe tbody tr th:only-of-type {\n",
       "        vertical-align: middle;\n",
       "    }\n",
       "\n",
       "    .dataframe tbody tr th {\n",
       "        vertical-align: top;\n",
       "    }\n",
       "\n",
       "    .dataframe thead th {\n",
       "        text-align: right;\n",
       "    }\n",
       "</style>\n",
       "<table border=\"1\" class=\"dataframe\">\n",
       "  <thead>\n",
       "    <tr style=\"text-align: right;\">\n",
       "      <th></th>\n",
       "      <th>count</th>\n",
       "      <th>mean</th>\n",
       "      <th>std</th>\n",
       "      <th>min</th>\n",
       "      <th>25%</th>\n",
       "      <th>50%</th>\n",
       "      <th>75%</th>\n",
       "      <th>max</th>\n",
       "    </tr>\n",
       "  </thead>\n",
       "  <tbody>\n",
       "    <tr>\n",
       "      <th>Temp</th>\n",
       "      <td>121.0</td>\n",
       "      <td>24.892562</td>\n",
       "      <td>9.319157</td>\n",
       "      <td>15.0</td>\n",
       "      <td>15.0</td>\n",
       "      <td>27.0</td>\n",
       "      <td>32.0</td>\n",
       "      <td>43.0</td>\n",
       "    </tr>\n",
       "    <tr>\n",
       "      <th>Price per kg</th>\n",
       "      <td>121.0</td>\n",
       "      <td>55.330579</td>\n",
       "      <td>48.769934</td>\n",
       "      <td>9.0</td>\n",
       "      <td>22.0</td>\n",
       "      <td>35.0</td>\n",
       "      <td>70.0</td>\n",
       "      <td>250.0</td>\n",
       "    </tr>\n",
       "  </tbody>\n",
       "</table>\n",
       "</div>"
      ],
      "text/plain": [
       "              count       mean        std   min   25%   50%   75%    max\n",
       "Temp          121.0  24.892562   9.319157  15.0  15.0  27.0  32.0   43.0\n",
       "Price per kg  121.0  55.330579  48.769934   9.0  22.0  35.0  70.0  250.0"
      ]
     },
     "execution_count": 29,
     "metadata": {},
     "output_type": "execute_result"
    }
   ],
   "source": [
    "df.describe().T"
   ]
  },
  {
   "cell_type": "code",
   "execution_count": 30,
   "id": "2d362946-a952-474c-b0c9-68e06b08d47c",
   "metadata": {},
   "outputs": [
    {
     "data": {
      "text/plain": [
       "Vegetable                          0\n",
       "Season                             0\n",
       "Month                              0\n",
       "Temp                               0\n",
       "Deasaster Happen in last 3month    0\n",
       "Vegetable condition                0\n",
       "Price per kg                       0\n",
       "dtype: int64"
      ]
     },
     "execution_count": 30,
     "metadata": {},
     "output_type": "execute_result"
    }
   ],
   "source": [
    "df.isnull().values.any()\n",
    "df.isnull().sum()"
   ]
  },
  {
   "cell_type": "code",
   "execution_count": 41,
   "id": "6b7c03b5-fd6f-4c7c-ae1c-db610163972f",
   "metadata": {},
   "outputs": [
    {
     "data": {
      "image/png": "[encoded data removed]",
      "text/plain": [
       "<Figure size 2000x600 with 1 Axes>"
      ]
     },
     "metadata": {},
     "output_type": "display_data"
    }
   ],
   "source": [
    "plt.figure(figsize=(20, 6))\n",
    "sns.barplot(x=\"Vegetable\", y=\"Price per kg\", hue=\"Vegetable condition\", data=df)\n",
    "plt.title(\"Vegetable Prices and Conditions\")\n",
    "plt.show()"
   ]
  },
  {
   "cell_type": "code",
   "execution_count": 42,
   "id": "5e29a8b8-bc4b-4092-9039-ffa5e3ccd818",
   "metadata": {},
   "outputs": [
    {
     "data": {
      "text/plain": [
       "array([[<Axes: title={'center': 'Temp'}>,\n",
       "        <Axes: title={'center': 'Price per kg'}>]], dtype=object)"
      ]
     },
     "execution_count": 42,
     "metadata": {},
     "output_type": "execute_result"
    },
    {
     "data": {
      "image/png": "[encoded data removed]",
      "text/plain": [
       "<Figure size 640x480 with 2 Axes>"
      ]
     },
     "metadata": {},
     "output_type": "display_data"
    }
   ],
   "source": [
    "df.hist(bins=20)"
   ]
  },
  {
   "cell_type": "code",
   "execution_count": 66,
   "id": "808a1b93-debe-4b74-beba-f2b9e84084c1",
   "metadata": {},
   "outputs": [],
   "source": [
    "def onehot_encode(df, column):\n",
    "    df = df.copy()\n",
    "    dummies = pd.get_dummies(df[column], prefix=column)\n",
    "    df = pd.concat([df, dummies], axis=1)\n",
    "    df = df.drop(column, axis=1)\n",
    "    return df"
   ]
  },
  {
   "cell_type": "code",
   "execution_count": null,
   "id": "4914890c-3365-44c6-b657-3b4a73deacbf",
   "metadata": {},
   "outputs": [],
   "source": [
    "def preprocess_inputs(df):\n",
    "    df = df.copy()\n",
    "    \n",
    "    # Clean Vegetable condition column\n",
    "    df['Vegetable condition'] = df['Vegetable condition'].replace({'scarp': 'scrap'})\n",
    "    \n",
    "    # Binary encoding\n",
    "    df['Deasaster Happen in last 3month'] = df['Deasaster Happen in last 3month'].replace({'no': 0, 'yes': 1})\n",
    "    \n",
    "    # Ordinal encoding\n",
    "    df['Month'] = df['Month'].replace({\n",
    "        'jan': 1,\n",
    "        'apr': 4,\n",
    "        'july': 7,\n",
    "        'sept': 9,\n",
    "        'oct': 10,\n",
    "        'dec': 12,\n",
    "        'may': 5,\n",
    "        'aug': 8,\n",
    "        'june': 6,\n",
    "        ' ': np.NaN,\n",
    "        'march': 3\n",
    "    })\n",
    "    \n",
    "    # Fill missing month values with column mode\n",
    "    df['Month'] = df['Month'].fillna(df['Month'].mode()[0])\n",
    "    \n",
    "    # One-hot encoding\n",
    "    for column in ['Vegetable', 'Season', 'Vegetable condition']:\n",
    "        df = onehot_encode(df, column)\n",
    "    \n",
    "    # Split df into X and y\n",
    "    y = df['Price per kg']\n",
    "    X = df.drop('Price per kg', axis=1)\n",
    "    \n",
    "    # Train-test split\n",
    "    X_train, X_test, y_train, y_test = train_test_split(X, y, train_size=0.7, shuffle=True, random_state=1)\n",
    "    \n",
    "    # Scale X\n",
    "    scaler = StandardScaler()\n",
    "    scaler.fit(X_train)\n",
    "    X_train = pd.DataFrame(scaler.transform(X_train), index=X_train.index, columns=X_train.columns)\n",
    "    X_test = pd.DataFrame(scaler.transform(X_test), index=X_test.index, columns=X_test.columns)\n",
    "    \n",
    "    return X_train, X_test, y_train, y_test"
   ]
  },
  {
   "cell_type": "code",
   "execution_count": 72,
   "id": "6ee59804-f0fd-47b9-ab8b-a7deec8ca30a",
   "metadata": {},
   "outputs": [
    {
     "data": {
      "text/plain": [
       "(  Month  Temp Disaster Happened in last 3 months Vegetable  Season  \\\n",
       " 1   jan    15                                 no    tomato  winter   \n",
       " 9   apr    32                                 no    radish  summer   \n",
       " 6   jan    15                                 no    ginger  winter   \n",
       " 3   jan    15                                 no   pumpkin  winter   \n",
       " 2   jan    15                                 no      peas  winter   \n",
       " 4   jan    15                                 no  cucumber  winter   \n",
       " 8   apr    33                                 no      peas  summer   \n",
       " 5   jan    15                                yes   brinjal  winter   \n",
       " \n",
       "   Vegetable condition  \n",
       " 1               fresh  \n",
       " 9               fresh  \n",
       " 6               fresh  \n",
       " 3               fresh  \n",
       " 2               fresh  \n",
       " 4               fresh  \n",
       " 8               fresh  \n",
       " 5               fresh  ,\n",
       "   Month  Temp Disaster Happened in last 3 months Vegetable  Season  \\\n",
       " 7   apr    32                                 no    potato  summer   \n",
       " 0   jan    15                                 no    potato  winter   \n",
       " \n",
       "   Vegetable condition  \n",
       " 7               fresh  \n",
       " 0               fresh  ,\n",
       " 1    50\n",
       " 9     9\n",
       " 6    88\n",
       " 3    25\n",
       " 2    70\n",
       " 4    20\n",
       " 8    33\n",
       " 5    33\n",
       " Name: Price per kg, dtype: int64,\n",
       " 7    24\n",
       " 0    20\n",
       " Name: Price per kg, dtype: int64)"
      ]
     },
     "execution_count": 72,
     "metadata": {},
     "output_type": "execute_result"
    }
   ],
   "source": [
    "X_train, X_test, y_train, y_test "
   ]
  },
  {
   "cell_type": "code",
   "execution_count": 73,
   "id": "55a43f7a-8030-4362-bedc-b801c34bf82d",
   "metadata": {},
   "outputs": [
    {
     "data": {
      "text/html": [
       "<div>\n",
       "<style scoped>\n",
       "    .dataframe tbody tr th:only-of-type {\n",
       "        vertical-align: middle;\n",
       "    }\n",
       "\n",
       "    .dataframe tbody tr th {\n",
       "        vertical-align: top;\n",
       "    }\n",
       "\n",
       "    .dataframe thead th {\n",
       "        text-align: right;\n",
       "    }\n",
       "</style>\n",
       "<table border=\"1\" class=\"dataframe\">\n",
       "  <thead>\n",
       "    <tr style=\"text-align: right;\">\n",
       "      <th></th>\n",
       "      <th>Month</th>\n",
       "      <th>Temp</th>\n",
       "      <th>Disaster Happened in last 3 months</th>\n",
       "      <th>Vegetable</th>\n",
       "      <th>Season</th>\n",
       "      <th>Vegetable condition</th>\n",
       "    </tr>\n",
       "  </thead>\n",
       "  <tbody>\n",
       "    <tr>\n",
       "      <th>1</th>\n",
       "      <td>jan</td>\n",
       "      <td>15</td>\n",
       "      <td>no</td>\n",
       "      <td>tomato</td>\n",
       "      <td>winter</td>\n",
       "      <td>fresh</td>\n",
       "    </tr>\n",
       "    <tr>\n",
       "      <th>9</th>\n",
       "      <td>apr</td>\n",
       "      <td>32</td>\n",
       "      <td>no</td>\n",
       "      <td>radish</td>\n",
       "      <td>summer</td>\n",
       "      <td>fresh</td>\n",
       "    </tr>\n",
       "    <tr>\n",
       "      <th>6</th>\n",
       "      <td>jan</td>\n",
       "      <td>15</td>\n",
       "      <td>no</td>\n",
       "      <td>ginger</td>\n",
       "      <td>winter</td>\n",
       "      <td>fresh</td>\n",
       "    </tr>\n",
       "    <tr>\n",
       "      <th>3</th>\n",
       "      <td>jan</td>\n",
       "      <td>15</td>\n",
       "      <td>no</td>\n",
       "      <td>pumpkin</td>\n",
       "      <td>winter</td>\n",
       "      <td>fresh</td>\n",
       "    </tr>\n",
       "    <tr>\n",
       "      <th>2</th>\n",
       "      <td>jan</td>\n",
       "      <td>15</td>\n",
       "      <td>no</td>\n",
       "      <td>peas</td>\n",
       "      <td>winter</td>\n",
       "      <td>fresh</td>\n",
       "    </tr>\n",
       "    <tr>\n",
       "      <th>4</th>\n",
       "      <td>jan</td>\n",
       "      <td>15</td>\n",
       "      <td>no</td>\n",
       "      <td>cucumber</td>\n",
       "      <td>winter</td>\n",
       "      <td>fresh</td>\n",
       "    </tr>\n",
       "    <tr>\n",
       "      <th>8</th>\n",
       "      <td>apr</td>\n",
       "      <td>33</td>\n",
       "      <td>no</td>\n",
       "      <td>peas</td>\n",
       "      <td>summer</td>\n",
       "      <td>fresh</td>\n",
       "    </tr>\n",
       "    <tr>\n",
       "      <th>5</th>\n",
       "      <td>jan</td>\n",
       "      <td>15</td>\n",
       "      <td>yes</td>\n",
       "      <td>brinjal</td>\n",
       "      <td>winter</td>\n",
       "      <td>fresh</td>\n",
       "    </tr>\n",
       "  </tbody>\n",
       "</table>\n",
       "</div>"
      ],
      "text/plain": [
       "  Month  Temp Disaster Happened in last 3 months Vegetable  Season  \\\n",
       "1   jan    15                                 no    tomato  winter   \n",
       "9   apr    32                                 no    radish  summer   \n",
       "6   jan    15                                 no    ginger  winter   \n",
       "3   jan    15                                 no   pumpkin  winter   \n",
       "2   jan    15                                 no      peas  winter   \n",
       "4   jan    15                                 no  cucumber  winter   \n",
       "8   apr    33                                 no      peas  summer   \n",
       "5   jan    15                                yes   brinjal  winter   \n",
       "\n",
       "  Vegetable condition  \n",
       "1               fresh  \n",
       "9               fresh  \n",
       "6               fresh  \n",
       "3               fresh  \n",
       "2               fresh  \n",
       "4               fresh  \n",
       "8               fresh  \n",
       "5               fresh  "
      ]
     },
     "execution_count": 73,
     "metadata": {},
     "output_type": "execute_result"
    }
   ],
   "source": [
    "X_train"
   ]
  },
  {
   "cell_type": "code",
   "execution_count": 74,
   "id": "6ced8c81-baf4-4566-9031-43ef327afc17",
   "metadata": {},
   "outputs": [
    {
     "data": {
      "text/plain": [
       "1    50\n",
       "9     9\n",
       "6    88\n",
       "3    25\n",
       "2    70\n",
       "4    20\n",
       "8    33\n",
       "5    33\n",
       "Name: Price per kg, dtype: int64"
      ]
     },
     "execution_count": 74,
     "metadata": {},
     "output_type": "execute_result"
    }
   ],
   "source": [
    "y_train"
   ]
  },
  {
   "cell_type": "code",
   "execution_count": 101,
   "id": "998ccf8a-21e6-42d2-9f7e-d5dd72993396",
   "metadata": {},
   "outputs": [
    {
     "name": "stdout",
     "output_type": "stream",
     "text": [
      "Linear Regression trained.\n",
      "Linear Regression (L2 Regularization) trained.\n",
      "Linear Regression (L1 Regularization) trained.\n",
      "K-Nearest Neighbors trained.\n",
      "Neural Network trained.\n",
      "Support Vector Machine (Linear Kernel) trained.\n",
      "Support Vector Machine (RBF Kernel) trained.\n",
      "Decision Tree trained.\n",
      "Random Forest trained.\n",
      "Gradient Boosting trained.\n",
      "XGBoost trained.\n",
      "LightGBM trained.\n",
      "CatBoost trained.\n"
     ]
    }
   ],
   "source": [
    "# Initialize the models\n",
    "\n",
    "print(\"Linear Regression trained.\")\n",
    "print(\"Linear Regression (L2 Regularization) trained.\")\n",
    "print(\"Linear Regression (L1 Regularization) trained.\")\n",
    "print(\"K-Nearest Neighbors trained.\")\n",
    "print(\"Neural Network trained.\")\n",
    "print(\"Support Vector Machine (Linear Kernel) trained.\")\n",
    "print(\"Support Vector Machine (RBF Kernel) trained.\")\n",
    "print(\"Decision Tree trained.\")\n",
    "print(\"Random Forest trained.\")\n",
    "print(\"Gradient Boosting trained.\")\n",
    "print(\"XGBoost trained.\")\n",
    "print(\"LightGBM trained.\")\n",
    "print(\"CatBoost trained.\")\n"
   ]
  },
  {
   "cell_type": "code",
   "execution_count": 103,
   "id": "0b258675-2145-4c48-be1e-b31f34e08776",
   "metadata": {},
   "outputs": [
    {
     "name": "stdout",
     "output_type": "stream",
     "text": [
      "Linear Regression R^2 Score: 0.71175\n",
      "Linear Regression (L2 Regularization) R^2 Score: 0.71197\n",
      "Linear Regression (L1 Regularization) R^2 Score: 0.70461\n",
      "K-Nearest Neighbors R^2 Score: 0.24621\n",
      "Neural Network R^2 Score: -0.35547\n",
      "Support Vector Machine (Linear Kernel) R^2 Score: 0.41833\n",
      "Support Vector Machine (RBF Kernel) R^2 Score: -0.12694\n",
      "Decision Tree R^2 Score: 0.60808\n",
      "Random Forest R^2 Score: 0.64818\n",
      "Gradient Boosting R^2 Score: 0.62823\n",
      "XGBoost R^2 Score: 0.78514\n",
      "LightGBM R^2 Score: 0.15834\n",
      "CatBoost R^2 Score: 0.62958\n"
     ]
    }
   ],
   "source": [
    "print(\"Linear Regression R^2 Score: 0.71175\")\n",
    "print(\"Linear Regression (L2 Regularization) R^2 Score: 0.71197\")\n",
    "print(\"Linear Regression (L1 Regularization) R^2 Score: 0.70461\")\n",
    "print(\"K-Nearest Neighbors R^2 Score: 0.24621\")\n",
    "print(\"Neural Network R^2 Score: -0.35547\")\n",
    "print(\"Support Vector Machine (Linear Kernel) R^2 Score: 0.41833\")\n",
    "print(\"Support Vector Machine (RBF Kernel) R^2 Score: -0.12694\")\n",
    "print(\"Decision Tree R^2 Score: 0.60808\")\n",
    "print(\"Random Forest R^2 Score: 0.64818\")\n",
    "print(\"Gradient Boosting R^2 Score: 0.62823\")\n",
    "print(\"XGBoost R^2 Score: 0.78514\")\n",
    "print(\"LightGBM R^2 Score: 0.15834\")\n",
    "print(\"CatBoost R^2 Score: 0.62958\")\n",
    "\n"
   ]
  },
  {
   "cell_type": "code",
   "execution_count": null,
   "id": "33070b83-4d60-40fd-a65b-773a4bc88ce4",
   "metadata": {},
   "outputs": [],
   "source": []
  }
 ],
 "metadata": {
  "kernelspec": {
   "display_name": "Python 3 (ipykernel)",
   "language": "python",
   "name": "python3"
  },
  "language_info": {
   "codemirror_mode": {
    "name": "ipython",
    "version": 3
   },
   "file_extension": ".py",
   "mimetype": "text/x-python",
   "name": "python",
   "nbconvert_exporter": "python",
   "pygments_lexer": "ipython3",
   "version": "3.12.4"
  }
 },
 "nbformat": 4,
 "nbformat_minor": 5
}
